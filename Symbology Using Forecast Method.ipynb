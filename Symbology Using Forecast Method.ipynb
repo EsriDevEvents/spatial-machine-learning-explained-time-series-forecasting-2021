{
 "cells": [
  {
   "cell_type": "code",
   "execution_count": 18,
   "metadata": {},
   "outputs": [],
   "source": [
    "# Change the layer name and index of Map view, make sure the layer can be found in TOC\n",
    "layer = \"US_7dayAvgDailyCasesPer100K_thru_0126_EFBL\"\n",
    "mapIndex = 1"
   ]
  },
  {
   "cell_type": "code",
   "execution_count": 19,
   "metadata": {},
   "outputs": [],
   "source": [
    "# Get the layer object by the layer name\n",
    "aprx = arcpy.mp.ArcGISProject('CURRENT')\n",
    "m = aprx.listMaps('*')[mapIndex]\n",
    "l = m.listLayers(layer)[0]"
   ]
  },
  {
   "cell_type": "code",
   "execution_count": 13,
   "metadata": {},
   "outputs": [
    {
     "name": "stdout",
     "output_type": "stream",
     "text": [
      "exponential\n",
      "exponential smoothing; seasonality:auto_detect\n",
      "forest-based; seed:96635; number_of_trees:100; sample_size:100; forecast_approach:value_detrend; outlier_option:identify; level_of_confidence:90%; maximum_number_of_outliers:1; time_window:auto_detect\n",
      "gompertz\n",
      "linear\n",
      "mean\n",
      "parabolic\n"
     ]
    }
   ],
   "source": [
    "# Get the symbology of the layer, set to Unique Value Renderer on the METHOD field\n",
    "sym = l.symbology\n",
    "sym.updateRenderer('UniqueValueRenderer')\n",
    "sym.renderer.fields = ['METHOD']\n",
    "\n",
    "for grp in sym.renderer.groups:\n",
    "    for itm in grp.items:\n",
    "        forecastMethod = itm.values[0][0] #Grab the first \"percent\" value in the list of potential values\n",
    "        print(forecastMethod)\n",
    "\n",
    "        # set Outline color\n",
    "        itm.symbol.outlineColor  = {'RGB': [204, 204, 204, 100]} #light grey\n",
    "\n",
    "        # set color based on best Forecast Method\n",
    "        if \"exponential smoothing\" in forecastMethod:\n",
    "            itm.symbol.color = {'RGB': [49, 162, 189, 100]} #blue\n",
    "            itm.label = \"exponential smoothing\"\n",
    "        elif \"forest-based\" in forecastMethod:\n",
    "            itm.symbol.color = {'RGB': [126, 87, 194, 100]} #purple\n",
    "            itm.label = \"forest-based\"\n",
    "        elif forecastMethod == \"gompertz\":\n",
    "            itm.symbol.color = {'RGB': [242, 103, 69, 100]} #red\n",
    "            itm.label = \"gompertz\"\n",
    "        elif forecastMethod == \"parabolic\":\n",
    "            itm.symbol.color = {'RGB': [244, 147, 104, 100]} #dark orange\n",
    "            itm.label = \"parabolic\"\n",
    "        elif forecastMethod == \"exponential\":\n",
    "            itm.symbol.color = {'RGB': [250, 165, 19, 100]} #light orange\n",
    "            itm.label = \"exponential\"\n",
    "        elif forecastMethod == \"linear\":\n",
    "            itm.symbol.color = {'RGB': [255, 199, 0, 100]} #yellow\n",
    "            itm.label = \"linear\"\n",
    "        else:\n",
    "            itm.symbol.color = {'RGB': [204, 204, 204, 100]} #grey\n",
    "            itm.label = \"mean\"\n",
    "\n",
    "l.symbology = sym"
   ]
  }
 ],
 "metadata": {
  "kernelspec": {
   "display_name": "ArcGISPro",
   "language": "Python",
   "name": "python3"
  },
  "language_info": {
   "file_extension": ".py",
   "name": "python",
   "version": "3"
  }
 },
 "nbformat": 4,
 "nbformat_minor": 2
}
